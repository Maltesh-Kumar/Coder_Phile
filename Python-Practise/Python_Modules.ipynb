{
 "cells": [
  {
   "cell_type": "code",
   "execution_count": 3,
   "metadata": {},
   "outputs": [
    {
     "name": "stdout",
     "output_type": "stream",
     "text": [
      "['In', 'Out', '_', '_1', '_2', '__', '___', '__builtin__', '__builtins__', '__doc__', '__loader__', '__name__', '__package__', '__spec__', '_dh', '_i', '_i1', '_i2', '_i3', '_ih', '_ii', '_iii', '_oh', 'exit', 'get_ipython', 'quit']\n"
     ]
    }
   ],
   "source": [
    "print(dir())"
   ]
  },
  {
   "cell_type": "code",
   "execution_count": 5,
   "metadata": {},
   "outputs": [
    {
     "name": "stdout",
     "output_type": "stream",
     "text": [
      "['ArithmeticError', 'AssertionError', 'AttributeError', 'BaseException', 'BlockingIOError', 'BrokenPipeError', 'BufferError', 'BytesWarning', 'ChildProcessError', 'ConnectionAbortedError', 'ConnectionError', 'ConnectionRefusedError', 'ConnectionResetError', 'DeprecationWarning', 'EOFError', 'Ellipsis', 'EnvironmentError', 'Exception', 'False', 'FileExistsError', 'FileNotFoundError', 'FloatingPointError', 'FutureWarning', 'GeneratorExit', 'IOError', 'ImportError', 'ImportWarning', 'IndentationError', 'IndexError', 'InterruptedError', 'IsADirectoryError', 'KeyError', 'KeyboardInterrupt', 'LookupError', 'MemoryError', 'ModuleNotFoundError', 'NameError', 'None', 'NotADirectoryError', 'NotImplemented', 'NotImplementedError', 'OSError', 'OverflowError', 'PendingDeprecationWarning', 'PermissionError', 'ProcessLookupError', 'RecursionError', 'ReferenceError', 'ResourceWarning', 'RuntimeError', 'RuntimeWarning', 'StopAsyncIteration', 'StopIteration', 'SyntaxError', 'SyntaxWarning', 'SystemError', 'SystemExit', 'TabError', 'TimeoutError', 'True', 'TypeError', 'UnboundLocalError', 'UnicodeDecodeError', 'UnicodeEncodeError', 'UnicodeError', 'UnicodeTranslateError', 'UnicodeWarning', 'UserWarning', 'ValueError', 'Warning', 'WindowsError', 'ZeroDivisionError', '__IPYTHON__', '__build_class__', '__debug__', '__doc__', '__import__', '__loader__', '__name__', '__package__', '__spec__', 'abs', 'all', 'any', 'ascii', 'bin', 'bool', 'breakpoint', 'bytearray', 'bytes', 'callable', 'chr', 'classmethod', 'compile', 'complex', 'copyright', 'credits', 'delattr', 'dict', 'dir', 'display', 'divmod', 'enumerate', 'eval', 'exec', 'filter', 'float', 'format', 'frozenset', 'get_ipython', 'getattr', 'globals', 'hasattr', 'hash', 'help', 'hex', 'id', 'input', 'int', 'isinstance', 'issubclass', 'iter', 'len', 'license', 'list', 'locals', 'map', 'max', 'memoryview', 'min', 'next', 'object', 'oct', 'open', 'ord', 'pow', 'print', 'property', 'range', 'repr', 'reversed', 'round', 'set', 'setattr', 'slice', 'sorted', 'staticmethod', 'str', 'sum', 'super', 'tuple', 'type', 'vars', 'zip']\n"
     ]
    }
   ],
   "source": [
    "print(dir(__builtin__))"
   ]
  },
  {
   "cell_type": "code",
   "execution_count": 9,
   "metadata": {},
   "outputs": [
    {
     "name": "stdout",
     "output_type": "stream",
     "text": [
      "Help on built-in function pow in module builtins:\n",
      "\n",
      "pow(x, y, z=None, /)\n",
      "    Equivalent to x**y (with two arguments) or x**y % z (with three arguments)\n",
      "    \n",
      "    Some types, such as ints, are able to use a more efficient algorithm when\n",
      "    invoked using the three argument form.\n",
      "\n"
     ]
    }
   ],
   "source": [
    "help(pow)"
   ]
  },
  {
   "cell_type": "code",
   "execution_count": 10,
   "metadata": {},
   "outputs": [
    {
     "name": "stdout",
     "output_type": "stream",
     "text": [
      "Help on built-in function hex in module builtins:\n",
      "\n",
      "hex(number, /)\n",
      "    Return the hexadecimal representation of an integer.\n",
      "    \n",
      "    >>> hex(12648430)\n",
      "    '0xc0ffee'\n",
      "\n"
     ]
    }
   ],
   "source": [
    "help(hex)"
   ]
  },
  {
   "cell_type": "code",
   "execution_count": 12,
   "metadata": {},
   "outputs": [
    {
     "name": "stdout",
     "output_type": "stream",
     "text": [
      "\n",
      "Please wait a moment while I gather a list of all available modules...\n",
      "\n"
     ]
    },
    {
     "name": "stderr",
     "output_type": "stream",
     "text": [
      "C:\\Users\\Maltesh\\Anaconda3\\lib\\site-packages\\IPython\\kernel\\__init__.py:13: ShimWarning: The `IPython.kernel` package has been deprecated since IPython 4.0.You should import from ipykernel or jupyter_client instead.\n",
      "  \"You should import from ipykernel or jupyter_client instead.\", ShimWarning)\n",
      "WARNING: AstropyDeprecationWarning: astropy.utils.compat.futures is now deprecated - use concurrent.futures instead [astropy.utils.compat.futures]\n",
      "C:\\Users\\Maltesh\\Anaconda3\\lib\\site-packages\\odo\\backends\\pandas.py:102: FutureWarning: pandas.tslib is deprecated and will be removed in a future version.\n",
      "You can access NaTType as type(pandas.NaT)\n",
      "  @convert.register((pd.Timestamp, pd.Timedelta), (pd.tslib.NaTType, type(None)))\n",
      "Using TensorFlow backend.\n"
     ]
    },
    {
     "name": "stdout",
     "output_type": "stream",
     "text": [
      "DEBUG:matplotlib.backends:backend module://ipykernel.pylab.backend_inline version unknown\n"
     ]
    },
    {
     "name": "stderr",
     "output_type": "stream",
     "text": [
      "C:\\Users\\Maltesh\\Anaconda3\\lib\\site-packages\\nltk\\twitter\\__init__.py:20: UserWarning: The twython library has not been installed. Some functionality from the twitter package will not be available.\n",
      "  warnings.warn(\"The twython library has not been installed. \"\n"
     ]
    },
    {
     "name": "stdout",
     "output_type": "stream",
     "text": [
      "DEBUG:pip._internal.vcs:Registered VCS backend: git\n",
      "DEBUG:pip._internal.vcs:Registered VCS backend: hg\n",
      "DEBUG:pip._internal.vcs:Registered VCS backend: svn\n",
      "DEBUG:pip._internal.vcs:Registered VCS backend: bzr\n"
     ]
    },
    {
     "name": "stderr",
     "output_type": "stream",
     "text": [
      "C:\\Users\\Maltesh\\Anaconda3\\lib\\site-packages\\skimage\\novice\\__init__.py:103: UserWarning: The `skimage.novice` module was deprecated in version 0.14. It will be removed in 0.16.\n",
      "  warnings.warn(\"The `skimage.novice` module was deprecated in version 0.14. \"\n",
      "C:\\Users\\Maltesh\\Anaconda3\\lib\\site-packages\\skimage\\viewer\\utils\\core.py:10: UserWarning: Recommended matplotlib backend is `Agg` for full skimage.viewer functionality.\n",
      "  warn(\"Recommended matplotlib backend is `Agg` for full \"\n",
      "C:\\Users\\Maltesh\\Anaconda3\\lib\\site-packages\\sklearn\\ensemble\\weight_boosting.py:29: DeprecationWarning: numpy.core.umath_tests is an internal NumPy module and should not be imported. It will be removed in a future NumPy release.\n",
      "  from numpy.core.umath_tests import inner1d\n",
      "C:\\Users\\Maltesh\\Anaconda3\\lib\\site-packages\\qtawesome\\iconic_font.py:268: UserWarning: You need to have a running QApplication to use QtAwesome!\n",
      "  warnings.warn(\"You need to have a running \"\n",
      "C:\\Users\\Maltesh\\Anaconda3\\lib\\site-packages\\tqdm\\autonotebook\\__init__.py:14: TqdmExperimentalWarning: Using `tqdm.autonotebook.tqdm` in notebook mode. Use `tqdm.tqdm` instead to force console mode (e.g. in jupyter console)\n",
      "  \" (e.g. in jupyter console)\", TqdmExperimentalWarning)\n",
      "C:\\Users\\Maltesh\\Anaconda3\\lib\\pkgutil.py:107: VisibleDeprecationWarning: zmq.eventloop.minitornado is deprecated in pyzmq 14.0 and will be removed.\n",
      "    Install tornado itself to use zmq with the tornado IOLoop.\n",
      "    \n",
      "  yield from walk_packages(path, info.name+'.', onerror)\n"
     ]
    },
    {
     "name": "stdout",
     "output_type": "stream",
     "text": [
      "Crypto              builtins            mimetypes           sortedcontainers\n",
      "Cython              bz2                 mistune             sphinx\n",
      "IPython             cProfile            mkl                 sphinxcontrib\n",
      "OpenSSL             calendar            mkl_fft             spyder\n",
      "PIL                 certifi             mkl_random          spyder_breakpoints\n",
      "PyQt5               cffi                mmap                spyder_io_dcm\n",
      "__future__          cgi                 mmapfile            spyder_io_hdf5\n",
      "_abc                cgitb               mmsystem            spyder_kernels\n",
      "_ast                chardet             modulefinder        spyder_profiler\n",
      "_asyncio            chunk               more_itertools      spyder_pylint\n",
      "_bisect             click               mpmath              sqlalchemy\n",
      "_blake2             cloudpickle         msgpack             sqlite3\n",
      "_bootlocale         clyent              msilib              sre_compile\n",
      "_bz2                cmath               msvcrt              sre_constants\n",
      "_cffi_backend       cmd                 multipledispatch    sre_parse\n",
      "_codecs             code                multiprocessing     ssl\n",
      "_codecs_cn          codecs              navigator_updater   sspi\n",
      "_codecs_hk          codeop              nbconvert           sspicon\n",
      "_codecs_iso2022     collections         nbformat            stat\n",
      "_codecs_jp          colorama            netbios             statistics\n",
      "_codecs_kr          colorsys            netrc               statsmodels\n",
      "_codecs_tw          commctrl            networkx            storemagic\n",
      "_collections        compileall          nltk                string\n",
      "_collections_abc    comtypes            nntplib             stringprep\n",
      "_compat_pickle      concurrent          nose                struct\n",
      "_compression        conda               notebook            subprocess\n",
      "_contextvars        conda_build         nt                  sunau\n",
      "_csv                conda_env           ntpath              symbol\n",
      "_ctypes             configparser        ntsecuritycon       sympy\n",
      "_ctypes_test        constantly          nturl2path          sympyprinting\n",
      "_datetime           contextlib          numba               symtable\n",
      "_decimal            contextlib2         numbers             sys\n",
      "_distutils_findvs   contextvars         numexpr             sysconfig\n",
      "_dummy_thread       copy                numpy               tables\n",
      "_elementtree        copyreg             numpydoc            tabnanny\n",
      "_functools          crypt               odbc                tarfile\n",
      "_hashlib            cryptography        odo                 tblib\n",
      "_heapq              csv                 olefile             telnetlib\n",
      "_imp                ctypes              opcode              tempfile\n",
      "_io                 curl                openpyxl            terminado\n",
      "_json               curses              operator            test\n",
      "_locale             cv2                 optparse            test_path\n",
      "_lsprof             cwp                 os                  test_pycosat\n",
      "_lzma               cycler              packaging           testpath\n",
      "_markupbase         cython              pandas              tests\n",
      "_md5                cythonmagic         pandocfilters       textwrap\n",
      "_msi                cytoolz             parser              this\n",
      "_multibytecodec     dask                parso               threading\n",
      "_multiprocessing    dataclasses         partd               time\n",
      "_nsis               datashape           path                timeit\n",
      "_opcode             datetime            pathlib             timer\n",
      "_operator           dateutil            pathlib2            tkinter\n",
      "_osx_support        dbi                 patsy               tlz\n",
      "_overlapped         dbm                 pdb                 token\n",
      "_pickle             dde                 pep8                tokenize\n",
      "_py_abc             decimal             perfmon             toolz\n",
      "_pydecimal          decorator           pickle              tornado\n",
      "_pyio               defusedxml          pickleshare         tqdm\n",
      "_pytest             difflib             pickletools         trace\n",
      "_queue              dis                 pip                 traceback\n",
      "_random             distributed         pipes               tracemalloc\n",
      "_sha1               distutils           pkg_resources       traitlets\n",
      "_sha256             docs                pkginfo             tty\n",
      "_sha3               doctest             pkgutil             turtle\n",
      "_sha512             docutils            platform            turtledemo\n",
      "_signal             dummy_threading     plistlib            twisted\n",
      "_sitebuiltins       easy_install        pluggy              types\n",
      "_socket             email               ply                 typing\n",
      "_sqlite3            encodings           poplib              unicodecsv\n",
      "_sre                ensurepip           posixpath           unicodedata\n",
      "_ssl                entrypoints         pprint              unittest\n",
      "_stat               enum                profile             urllib\n",
      "_string             errno               prometheus_client   urllib3\n",
      "_strptime           et_xmlfile          prompt_toolkit      uu\n",
      "_struct             fastcache           pstats              uuid\n",
      "_symtable           faulthandler        psutil              venv\n",
      "_system_path        filecmp             pty                 warnings\n",
      "_testbuffer         fileinput           py                  wave\n",
      "_testcapi           filelock            py_compile          wcwidth\n",
      "_testconsole        flask               pyasn1              weakref\n",
      "_testimportmultiple flask_cors          pyasn1_modules      webbrowser\n",
      "_testmultiphase     fnmatch             pyclbr              webencodings\n",
      "_thread             formatter           pycodestyle         werkzeug\n",
      "_threading_local    fractions           pycosat             wheel\n",
      "_tkinter            ftplib              pycparser           widgetsnbextension\n",
      "_tracemalloc        functools           pycurl              win2kras\n",
      "_warnings           gc                  pydoc               win32api\n",
      "_weakref            genericpath         pydoc_data          win32clipboard\n",
      "_weakrefset         getopt              pyexpat             win32com\n",
      "_win32sysloader     getpass             pyflakes            win32con\n",
      "_winapi             gettext             pygments            win32console\n",
      "_winxptheme         gevent              pylab               win32cred\n",
      "_yaml               glob                pylint              win32crypt\n",
      "abc                 glob2               pyodbc              win32cryptcon\n",
      "adodbapi            greenlet            pyparsing           win32event\n",
      "afxres              gzip                pytest              win32evtlog\n",
      "aifc                h5py                pytest_arraydiff    win32evtlogutil\n",
      "alabaster           hashlib             pytest_doctestplus  win32file\n",
      "anaconda_navigator  heapdict            pytest_openfiles    win32gui\n",
      "anaconda_project    heapq               pytest_remotedata   win32gui_struct\n",
      "antigravity         hmac                pythoncom           win32help\n",
      "appdirs             html                pytz                win32inet\n",
      "argparse            html5lib            pywin               win32inetcon\n",
      "array               http                pywin32_testutil    win32job\n",
      "asn1crypto          hyperlink           pywintypes          win32lz\n",
      "ast                 idlelib             pywt                win32net\n",
      "astroid             idna                pyximport           win32netcon\n",
      "astropy             imageio             qtawesome           win32pdh\n",
      "asynchat            imagesize           qtconsole           win32pdhquery\n",
      "asyncio             imaplib             qtpy                win32pdhutil\n",
      "asyncore            imghdr              queue               win32pipe\n",
      "atexit              imp                 quopri              win32print\n",
      "atomicwrites        importlib           random              win32process\n",
      "attr                incremental         rasutil             win32profile\n",
      "audioop             inspect             re                  win32ras\n",
      "automat             io                  regcheck            win32rcparser\n",
      "autoreload          ipaddress           regutil             win32security\n"
     ]
    },
    {
     "name": "stdout",
     "output_type": "stream",
     "text": [
      "babel               ipykernel           reprlib             win32service\n",
      "backcall            ipykernel_launcher  requests            win32serviceutil\n",
      "backports           ipython_genutils    rlcompleter         win32timezone\n",
      "base64              ipywidgets          rmagic              win32trace\n",
      "bdb                 isapi               rope                win32traceutil\n",
      "binascii            isort               ruamel_yaml         win32transaction\n",
      "binhex              itertools           run                 win32ts\n",
      "binstar_client      itsdangerous        runpy               win32ui\n",
      "bisect              jdcal               sched               win32uiole\n",
      "bitarray            jedi                scipy               win32verstamp\n",
      "bkcharts            jinja2              scripts             win32wnet\n",
      "blaze               json                seaborn             win_inet_pton\n",
      "bleach              jsonschema          secrets             win_unicode_console\n",
      "bokeh               jupyter             select              wincertstore\n",
      "boto                jupyter_client      selectors           winerror\n",
      "bottleneck          jupyter_console     selenium            winioctlcon\n",
      "brain_attrs         jupyter_core        send2trash          winnt\n",
      "brain_builtin_inference jupyterlab          service_identity    winperf\n",
      "brain_collections   jupyterlab_launcher servicemanager      winpty\n",
      "brain_curses        keras               setuptools          winreg\n",
      "brain_dateutil      keras_applications  shelve              winsound\n",
      "brain_fstrings      keras_preprocessing shlex               winxpgui\n",
      "brain_functools     keyring             shutil              winxptheme\n",
      "brain_gi            keyword             signal              wrapt\n",
      "brain_hashlib       kiwisolver          simplegeneric       wsgiref\n",
      "brain_io            lazy_object_proxy   singledispatch      xdrlib\n",
      "brain_mechanize     lib2to3             singledispatch_helpers xlrd\n",
      "brain_multiprocessing linecache           sip                 xlsxwriter\n",
      "brain_namedtuple_enum llvmlite            sipconfig           xlwings\n",
      "brain_nose          locale              sipdistutils        xlwt\n",
      "brain_numpy         locket              site                xml\n",
      "brain_pkg_resources logging             six                 xmlrpc\n",
      "brain_pytest        lxml                skimage             xxsubtype\n",
      "brain_qt            lzma                sklearn             yaml\n",
      "brain_random        macpath             smtpd               zict\n",
      "brain_re            mailbox             smtplib             zipapp\n",
      "brain_six           mailcap             sndhdr              zipfile\n",
      "brain_ssl           markupsafe          snowballstemmer     zipimport\n",
      "brain_subprocess    marshal             socket              zlib\n",
      "brain_threading     math                socketserver        zmq\n",
      "brain_typing        matplotlib          socks               zope\n",
      "brain_uuid          mccabe              sockshandler        \n",
      "bs4                 menuinst            sortedcollections   \n",
      "\n",
      "Enter any module name to get more help.  Or, type \"modules spam\" to search\n",
      "for modules whose name or summary contain the string \"spam\".\n",
      "\n",
      "DEBUG:matplotlib.backends:backend module://ipykernel.pylab.backend_inline version unknown\n"
     ]
    }
   ],
   "source": [
    "help('modules')"
   ]
  },
  {
   "cell_type": "code",
   "execution_count": 13,
   "metadata": {},
   "outputs": [],
   "source": [
    "import math"
   ]
  },
  {
   "cell_type": "code",
   "execution_count": 15,
   "metadata": {},
   "outputs": [
    {
     "name": "stdout",
     "output_type": "stream",
     "text": [
      "['__doc__', '__loader__', '__name__', '__package__', '__spec__', 'acos', 'acosh', 'asin', 'asinh', 'atan', 'atan2', 'atanh', 'ceil', 'copysign', 'cos', 'cosh', 'degrees', 'e', 'erf', 'erfc', 'exp', 'expm1', 'fabs', 'factorial', 'floor', 'fmod', 'frexp', 'fsum', 'gamma', 'gcd', 'hypot', 'inf', 'isclose', 'isfinite', 'isinf', 'isnan', 'ldexp', 'lgamma', 'log', 'log10', 'log1p', 'log2', 'modf', 'nan', 'pi', 'pow', 'radians', 'remainder', 'sin', 'sinh', 'sqrt', 'tan', 'tanh', 'tau', 'trunc']\n"
     ]
    }
   ],
   "source": [
    "print(dir(math))"
   ]
  },
  {
   "cell_type": "code",
   "execution_count": 17,
   "metadata": {},
   "outputs": [
    {
     "name": "stdout",
     "output_type": "stream",
     "text": [
      "Help on built-in function gcd in module math:\n",
      "\n",
      "gcd(x, y, /)\n",
      "    greatest common divisor of x and y\n",
      "\n"
     ]
    }
   ],
   "source": [
    "help(math.gcd)"
   ]
  },
  {
   "cell_type": "code",
   "execution_count": 18,
   "metadata": {},
   "outputs": [],
   "source": [
    "import pandas"
   ]
  },
  {
   "cell_type": "code",
   "execution_count": 20,
   "metadata": {},
   "outputs": [
    {
     "name": "stdout",
     "output_type": "stream",
     "text": [
      "['Categorical', 'CategoricalIndex', 'DataFrame', 'DateOffset', 'DatetimeIndex', 'ExcelFile', 'ExcelWriter', 'Expr', 'Float64Index', 'Grouper', 'HDFStore', 'Index', 'IndexSlice', 'Int64Index', 'Interval', 'IntervalIndex', 'MultiIndex', 'NaT', 'Panel', 'Period', 'PeriodIndex', 'RangeIndex', 'Series', 'SparseArray', 'SparseDataFrame', 'SparseSeries', 'Term', 'TimeGrouper', 'Timedelta', 'TimedeltaIndex', 'Timestamp', 'UInt64Index', 'WidePanel', '_DeprecatedModule', '__builtins__', '__cached__', '__doc__', '__docformat__', '__file__', '__loader__', '__name__', '__package__', '__path__', '__spec__', '__version__', '_hashtable', '_lib', '_libs', '_np_version_under1p10', '_np_version_under1p11', '_np_version_under1p12', '_np_version_under1p13', '_np_version_under1p14', '_np_version_under1p15', '_tslib', '_version', 'api', 'bdate_range', 'compat', 'computation', 'concat', 'core', 'crosstab', 'cut', 'date_range', 'datetime', 'datetools', 'describe_option', 'errors', 'eval', 'factorize', 'formats', 'get_dummies', 'get_option', 'get_store', 'groupby', 'infer_freq', 'interval_range', 'io', 'isna', 'isnull', 'json', 'lib', 'lreshape', 'match', 'melt', 'merge', 'merge_asof', 'merge_ordered', 'notna', 'notnull', 'np', 'offsets', 'option_context', 'options', 'pandas', 'parser', 'period_range', 'pivot', 'pivot_table', 'plot_params', 'plotting', 'pnow', 'qcut', 'read_clipboard', 'read_csv', 'read_excel', 'read_feather', 'read_fwf', 'read_gbq', 'read_hdf', 'read_html', 'read_json', 'read_msgpack', 'read_parquet', 'read_pickle', 'read_sas', 'read_sql', 'read_sql_query', 'read_sql_table', 'read_stata', 'read_table', 'reset_option', 'scatter_matrix', 'set_eng_float_format', 'set_option', 'show_versions', 'test', 'testing', 'tests', 'timedelta_range', 'to_datetime', 'to_msgpack', 'to_numeric', 'to_pickle', 'to_timedelta', 'tools', 'tseries', 'tslib', 'types', 'unique', 'util', 'value_counts', 'wide_to_long']\n"
     ]
    }
   ],
   "source": [
    "print(dir(pandas))"
   ]
  },
  {
   "cell_type": "code",
   "execution_count": 21,
   "metadata": {},
   "outputs": [
    {
     "name": "stdout",
     "output_type": "stream",
     "text": [
      "Help on function isna in module pandas.core.dtypes.missing:\n",
      "\n",
      "isna(obj)\n",
      "    Detect missing values for an array-like object.\n",
      "    \n",
      "    This function takes a scalar or array-like object and indictates\n",
      "    whether values are missing (``NaN`` in numeric arrays, ``None`` or ``NaN``\n",
      "    in object arrays, ``NaT`` in datetimelike).\n",
      "    \n",
      "    Parameters\n",
      "    ----------\n",
      "    obj : scalar or array-like\n",
      "        Object to check for null or missing values.\n",
      "    \n",
      "    Returns\n",
      "    -------\n",
      "    bool or array-like of bool\n",
      "        For scalar input, returns a scalar boolean.\n",
      "        For array input, returns an array of boolean indicating whether each\n",
      "        corresponding element is missing.\n",
      "    \n",
      "    See Also\n",
      "    --------\n",
      "    notna : boolean inverse of pandas.isna.\n",
      "    Series.isna : Detetct missing values in a Series.\n",
      "    DataFrame.isna : Detect missing values in a DataFrame.\n",
      "    Index.isna : Detect missing values in an Index.\n",
      "    \n",
      "    Examples\n",
      "    --------\n",
      "    Scalar arguments (including strings) result in a scalar boolean.\n",
      "    \n",
      "    >>> pd.isna('dog')\n",
      "    False\n",
      "    \n",
      "    >>> pd.isna(np.nan)\n",
      "    True\n",
      "    \n",
      "    ndarrays result in an ndarray of booleans.\n",
      "    \n",
      "    >>> array = np.array([[1, np.nan, 3], [4, 5, np.nan]])\n",
      "    >>> array\n",
      "    array([[ 1., nan,  3.],\n",
      "           [ 4.,  5., nan]])\n",
      "    >>> pd.isna(array)\n",
      "    array([[False,  True, False],\n",
      "           [False, False,  True]])\n",
      "    \n",
      "    For indexes, an ndarray of booleans is returned.\n",
      "    \n",
      "    >>> index = pd.DatetimeIndex([\"2017-07-05\", \"2017-07-06\", None,\n",
      "    ...                           \"2017-07-08\"])\n",
      "    >>> index\n",
      "    DatetimeIndex(['2017-07-05', '2017-07-06', 'NaT', '2017-07-08'],\n",
      "                  dtype='datetime64[ns]', freq=None)\n",
      "    >>> pd.isna(index)\n",
      "    array([False, False,  True, False])\n",
      "    \n",
      "    For Series and DataFrame, the same type is returned, containing booleans.\n",
      "    \n",
      "    >>> df = pd.DataFrame([['ant', 'bee', 'cat'], ['dog', None, 'fly']])\n",
      "    >>> df\n",
      "         0     1    2\n",
      "    0  ant   bee  cat\n",
      "    1  dog  None  fly\n",
      "    >>> pd.isna(df)\n",
      "           0      1      2\n",
      "    0  False  False  False\n",
      "    1  False   True  False\n",
      "    \n",
      "    >>> pd.isna(df[1])\n",
      "    0    False\n",
      "    1     True\n",
      "    Name: 1, dtype: bool\n",
      "\n"
     ]
    }
   ],
   "source": [
    "help(pandas.isnull)"
   ]
  },
  {
   "cell_type": "code",
   "execution_count": 22,
   "metadata": {},
   "outputs": [],
   "source": [
    "# IMPORT A MODULE AND CHECK FOR ANY FUNCTION \n"
   ]
  },
  {
   "cell_type": "markdown",
   "metadata": {},
   "source": [
    "<b>------------------------------------------------------------------------------------------------------------------------------------------------------------------------------------------------------------------</b>"
   ]
  }
 ],
 "metadata": {
  "kernelspec": {
   "display_name": "Python 3",
   "language": "python",
   "name": "python3"
  },
  "language_info": {
   "codemirror_mode": {
    "name": "ipython",
    "version": 3
   },
   "file_extension": ".py",
   "mimetype": "text/x-python",
   "name": "python",
   "nbconvert_exporter": "python",
   "pygments_lexer": "ipython3",
   "version": "3.7.0"
  }
 },
 "nbformat": 4,
 "nbformat_minor": 2
}
