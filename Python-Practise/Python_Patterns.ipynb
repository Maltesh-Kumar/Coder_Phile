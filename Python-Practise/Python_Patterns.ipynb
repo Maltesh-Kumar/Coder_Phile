{
 "cells": [
  {
   "cell_type": "code",
   "execution_count": 7,
   "metadata": {},
   "outputs": [
    {
     "name": "stdout",
     "output_type": "stream",
     "text": [
      "Enter n = 5\n",
      "* \n",
      "* * \n",
      "* * * \n",
      "* * * * \n",
      "* * * * * \n"
     ]
    }
   ],
   "source": [
    "n = int(input(\"Enter n = \")) \n",
    "for i in range(n):\n",
    "    for j in range(0,i+1):\n",
    "        print(\"*\",end=\" \")\n",
    "    print()"
   ]
  },
  {
   "cell_type": "code",
   "execution_count": 6,
   "metadata": {},
   "outputs": [
    {
     "name": "stdout",
     "output_type": "stream",
     "text": [
      "Enter n = 5\n",
      "          * \n",
      "        * * \n",
      "      * * * \n",
      "    * * * * \n",
      "  * * * * * \n"
     ]
    }
   ],
   "source": [
    "n = int(input(\"Enter n = \")) \n",
    "for i in range(1,n+1):\n",
    "    for j in range(n+1,i,-1):\n",
    "        print(\" \",end=\" \")\n",
    "    for k in range(1,i+1):\n",
    "        print(\"*\",end=\" \")\n",
    "    print()"
   ]
  },
  {
   "cell_type": "code",
   "execution_count": 12,
   "metadata": {},
   "outputs": [
    {
     "name": "stdout",
     "output_type": "stream",
     "text": [
      "Enter n = 5\n",
      "     * \n",
      "    * * \n",
      "   * * * \n",
      "  * * * * \n",
      " * * * * * \n"
     ]
    }
   ],
   "source": [
    "n = int(input(\"Enter n = \")) \n",
    "for i in range(1,n+1):\n",
    "    for j in range(n+1,i,-1):\n",
    "        print(\"\",end=\" \")\n",
    "    for k in range(1,i+1):\n",
    "        print(\"*\",end=\" \")\n",
    "    print()"
   ]
  },
  {
   "cell_type": "code",
   "execution_count": 13,
   "metadata": {},
   "outputs": [
    {
     "name": "stdout",
     "output_type": "stream",
     "text": [
      "Enter n = 5\n",
      "* * * * * \n",
      "* * * * \n",
      "* * * \n",
      "* * \n",
      "* \n"
     ]
    }
   ],
   "source": [
    "n = int(input(\"Enter n = \")) \n",
    "for row in range(1,n+1):\n",
    "    for col in range(n+1,row,-1):\n",
    "        print(\"*\",end=\" \")\n",
    "    print()"
   ]
  },
  {
   "cell_type": "code",
   "execution_count": 21,
   "metadata": {},
   "outputs": [
    {
     "name": "stdout",
     "output_type": "stream",
     "text": [
      "*   *\n",
      "*  * \n",
      "* *  \n",
      "**   \n",
      "* *  \n",
      "*  * \n",
      "*   *\n"
     ]
    }
   ],
   "source": [
    "for row in range(7):\n",
    "    for col in range(5):\n",
    "        if col == 0 or (row == col + 2 and col > 1) or (row < 4 and col == 4 - row):\n",
    "            print(\"*\",end=\"\")\n",
    "        else:\n",
    "            print(end=\" \")\n",
    "    print()"
   ]
  },
  {
   "cell_type": "code",
   "execution_count": 4,
   "metadata": {},
   "outputs": [
    {
     "name": "stdout",
     "output_type": "stream",
     "text": [
      "Enter String = jarvis\n",
      "j\n",
      "ja\n",
      "jar\n",
      "jarv\n",
      "jarvi\n",
      "jarvis\n"
     ]
    }
   ],
   "source": [
    "s = input(\"Enter String = \")\n",
    "l = len(s)\n",
    "for row in range(0,l):\n",
    "    for col in range(0,row+1):\n",
    "        print(s[col],end=\"\")\n",
    "    print()"
   ]
  },
  {
   "cell_type": "code",
   "execution_count": 5,
   "metadata": {},
   "outputs": [
    {
     "name": "stdout",
     "output_type": "stream",
     "text": [
      "Enter n = 5\n",
      "55555\n",
      "4444\n",
      "333\n",
      "22\n",
      "1\n"
     ]
    }
   ],
   "source": [
    "n = int(input(\"Enter n = \"))\n",
    "for row in range(0,n):\n",
    "    for col in range(0,n-row):\n",
    "        print(n-row,end=\"\")\n",
    "    print()"
   ]
  },
  {
   "cell_type": "code",
   "execution_count": 6,
   "metadata": {},
   "outputs": [
    {
     "name": "stdout",
     "output_type": "stream",
     "text": [
      "Enter n = 7\n",
      "      *      \n",
      "     * *     \n",
      "    *   *    \n",
      "   *     *   \n",
      "  *       *  \n",
      " *         * \n",
      "*************\n"
     ]
    }
   ],
   "source": [
    "n = int(input(\"Enter n = \"))\n",
    "for row in range(1,n+1):\n",
    "    for col in range(1,2*n):\n",
    "        if row == n or row+col == n+1 or col-row == n-1:\n",
    "            print(\"*\",end=\"\")        \n",
    "        else:\n",
    "            print(end=\" \")\n",
    "    print()"
   ]
  },
  {
   "cell_type": "code",
   "execution_count": 7,
   "metadata": {},
   "outputs": [
    {
     "name": "stdout",
     "output_type": "stream",
     "text": [
      "Enter n = 6\n",
      "     *     \n",
      "    * *    \n",
      "   *   *   \n",
      "  *     *  \n",
      " *       * \n",
      "***********\n"
     ]
    }
   ],
   "source": [
    "n = int(input(\"Enter n = \"))  \n",
    "for row in range(1,n+1):\n",
    "    for col in range(1,2*n):\n",
    "        if row == n or col+row == n+1 or col-row == n-1:\n",
    "            print(\"*\",end=\"\")\n",
    "        else:\n",
    "            print(end=\" \")\n",
    "    print()"
   ]
  },
  {
   "cell_type": "code",
   "execution_count": 11,
   "metadata": {},
   "outputs": [
    {
     "name": "stdout",
     "output_type": "stream",
     "text": [
      "Enter the value of n = 6\n",
      "1\t2\t3\t4\t5\t6\t\n",
      "20\t21\t22\t23\t24\t7\t\n",
      "19\t32\t33\t34\t25\t8\t\n",
      "18\t31\t36\t35\t26\t9\t\n",
      "17\t30\t29\t28\t27\t10\t\n",
      "16\t15\t14\t13\t12\t11\t\n"
     ]
    }
   ],
   "source": [
    "num = int(input(\"Enter the value of n = \"))\n",
    "# n is starting number\n",
    "n = 1\n",
    "count = int((num+1)/2)\n",
    "low = 0\n",
    "high = num-1\n",
    "\n",
    "a = [[0 for i in range(num)] for j in range(num)]\n",
    "\n",
    "for i in range(count):\n",
    "    for j in range(low,high+1):\n",
    "        a[i][j] = n\n",
    "        n += 1\n",
    "    for j in range(low+1,high+1):\n",
    "        a[j][high] = n\n",
    "        n += 1\n",
    "    for j in range(high-1,low-1,-1):\n",
    "        a[high][j] = n\n",
    "        n += 1\n",
    "    for j in range(high-1,low,-1):\n",
    "        a[j][low] = n\n",
    "        n += 1\n",
    "    low += 1\n",
    "    high -= 1\n",
    "    \n",
    "for i in range(num):\n",
    "    for j in range(num):\n",
    "        print(a[i][j],end=\"\\t\")\n",
    "    print()"
   ]
  },
  {
   "cell_type": "code",
   "execution_count": 12,
   "metadata": {},
   "outputs": [
    {
     "name": "stdout",
     "output_type": "stream",
     "text": [
      "Enter the value of n = 6\n",
      "     1\n",
      "    212\n",
      "   32123\n",
      "  4321234\n",
      " 543212345\n",
      "65432123456\n"
     ]
    }
   ],
   "source": [
    "n = int(input(\"Enter the value of n = \")) \n",
    "for i in range(1,n+1):\n",
    "    for j in range(1,n+1-i):\n",
    "        print(end=\" \")\n",
    "    for j in range(i,0,-1):\n",
    "        print(j,end=\"\")\n",
    "    for j in range(2,i+1):\n",
    "        print(j,end=\"\")\n",
    "    print()"
   ]
  },
  {
   "cell_type": "code",
   "execution_count": 26,
   "metadata": {},
   "outputs": [
    {
     "name": "stdout",
     "output_type": "stream",
     "text": [
      "Enter the value of n = 10\n",
      "                           1     \n",
      "                        2     3     \n",
      "                     4     5     6     \n",
      "                  7     8     9     10    \n",
      "               11    12    13    14    15    \n",
      "            16    17    18    19    20    21    \n",
      "         22    23    24    25    26    27    28    \n",
      "      29    30    31    32    33    34    35    36    \n",
      "   37    38    39    40    41    42    43    44    45    \n",
      "46    47    48    49    50    51    52    53    54    55    \n"
     ]
    }
   ],
   "source": [
    "x = 1    \n",
    "n = int(input(\"Enter the value of n = \")) \n",
    "for i in range(1,n+1):\n",
    "    for j in range(1,n+1-i):\n",
    "        print(format(\" \",\"<3\"),end=\"\")\n",
    "    for j in range(1,i+1):\n",
    "        print(format(x,\"<6\"),end=\"\")\n",
    "        x += 1\n",
    "    print()"
   ]
  },
  {
   "cell_type": "code",
   "execution_count": null,
   "metadata": {},
   "outputs": [],
   "source": []
  }
 ],
 "metadata": {
  "kernelspec": {
   "display_name": "Python 3",
   "language": "python",
   "name": "python3"
  },
  "language_info": {
   "codemirror_mode": {
    "name": "ipython",
    "version": 3
   },
   "file_extension": ".py",
   "mimetype": "text/x-python",
   "name": "python",
   "nbconvert_exporter": "python",
   "pygments_lexer": "ipython3",
   "version": "3.7.0"
  }
 },
 "nbformat": 4,
 "nbformat_minor": 2
}
