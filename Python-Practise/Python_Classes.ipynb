{
 "cells": [
  {
   "cell_type": "code",
   "execution_count": 5,
   "metadata": {},
   "outputs": [],
   "source": [
    "class student:\n",
    "    pass"
   ]
  },
  {
   "cell_type": "code",
   "execution_count": 6,
   "metadata": {},
   "outputs": [],
   "source": [
    "stud_1 = student()\n",
    "stud_2 = student()"
   ]
  },
  {
   "cell_type": "code",
   "execution_count": 7,
   "metadata": {},
   "outputs": [],
   "source": [
    "stud_1.fn = 'firstname'\n",
    "stud_1.ln = 'lastname'\n",
    "stud_1.em = 'fnamelname@gmail.com'"
   ]
  },
  {
   "cell_type": "code",
   "execution_count": 8,
   "metadata": {},
   "outputs": [],
   "source": [
    "stud_2.fn = 'Kishan'\n",
    "stud_2.ln = 'K'\n",
    "stud_2.em = 'kk@yahoo.com'"
   ]
  },
  {
   "cell_type": "code",
   "execution_count": 9,
   "metadata": {},
   "outputs": [
    {
     "name": "stdout",
     "output_type": "stream",
     "text": [
      "First Students details =  firstname lastname fnamelname@gmail.com\n",
      "Second Students details =  Kishan K kk@yahoo.com\n"
     ]
    }
   ],
   "source": [
    "print(\"First Students details = \",stud_1.fn,stud_1.ln,stud_1.em)\n",
    "print(\"Second Students details = \",stud_2.fn,stud_2.ln,stud_2.em)"
   ]
  },
  {
   "cell_type": "markdown",
   "metadata": {},
   "source": [
    "#####################################################################################################################"
   ]
  },
  {
   "cell_type": "code",
   "execution_count": 30,
   "metadata": {},
   "outputs": [],
   "source": [
    "class student :\n",
    "    def __init__(self,fn,ln,email):\n",
    "        self.first_name = fn.title()\n",
    "        self.last_name = ln.title()\n",
    "        self.Email = email\n",
    "    def fullname(self):\n",
    "        return (self.first_name.title()+'_'+self.last_name.title())"
   ]
  },
  {
   "cell_type": "code",
   "execution_count": 31,
   "metadata": {},
   "outputs": [],
   "source": [
    "class jss(student):\n",
    "    def __init__(self,fn,ln,em,sem,gender):\n",
    "        super().__init__(fn,ln,em)\n",
    "        self.sem = sem\n",
    "        self.gender = gender"
   ]
  },
  {
   "cell_type": "code",
   "execution_count": 32,
   "metadata": {},
   "outputs": [],
   "source": [
    "st1 = jss('firSTNAME','laSTNAME','fnamelname@gmail.com',7,'M')\n",
    "st2 = jss('kiShAN','kuMAr','kk@yahoo.com',6,'M')"
   ]
  },
  {
   "cell_type": "code",
   "execution_count": 33,
   "metadata": {},
   "outputs": [
    {
     "name": "stdout",
     "output_type": "stream",
     "text": [
      "Firstname_Lastname\n",
      "Kishan_Kumar\n"
     ]
    }
   ],
   "source": [
    "print(st1.fullname())\n",
    "print(st2.fullname())"
   ]
  },
  {
   "cell_type": "code",
   "execution_count": 37,
   "metadata": {},
   "outputs": [
    {
     "name": "stdout",
     "output_type": "stream",
     "text": [
      "{'first_name': 'Firstname', 'last_name': 'Lastname', 'Email': 'fnamelname@gmail.com', 'sem': 7, 'gender': 'M'}\n",
      "{'first_name': 'Kishan', 'last_name': 'Kumar', 'Email': 'kk@yahoo.com', 'sem': 6, 'gender': 'M'}\n"
     ]
    }
   ],
   "source": [
    "print(st1.__dict__)\n",
    "print(st2.__dict__)"
   ]
  },
  {
   "cell_type": "code",
   "execution_count": 35,
   "metadata": {},
   "outputs": [
    {
     "name": "stdout",
     "output_type": "stream",
     "text": [
      "Help on class jss in module __main__:\n",
      "\n",
      "class jss(student)\n",
      " |  jss(fn, ln, em, sem, gender)\n",
      " |  \n",
      " |  Method resolution order:\n",
      " |      jss\n",
      " |      student\n",
      " |      builtins.object\n",
      " |  \n",
      " |  Methods defined here:\n",
      " |  \n",
      " |  __init__(self, fn, ln, em, sem, gender)\n",
      " |      Initialize self.  See help(type(self)) for accurate signature.\n",
      " |  \n",
      " |  ----------------------------------------------------------------------\n",
      " |  Methods inherited from student:\n",
      " |  \n",
      " |  fullname(self)\n",
      " |  \n",
      " |  ----------------------------------------------------------------------\n",
      " |  Data descriptors inherited from student:\n",
      " |  \n",
      " |  __dict__\n",
      " |      dictionary for instance variables (if defined)\n",
      " |  \n",
      " |  __weakref__\n",
      " |      list of weak references to the object (if defined)\n",
      "\n",
      "None\n"
     ]
    }
   ],
   "source": [
    "print(help(jss))"
   ]
  },
  {
   "cell_type": "code",
   "execution_count": 12,
   "metadata": {},
   "outputs": [
    {
     "name": "stdout",
     "output_type": "stream",
     "text": [
      "{'__module__': '__main__', '__init__': <function student.__init__ at 0x000002ACA965DEA0>, 'fullname': <function student.fullname at 0x000002ACA965D840>, '__dict__': <attribute '__dict__' of 'student' objects>, '__weakref__': <attribute '__weakref__' of 'student' objects>, '__doc__': None}\n"
     ]
    }
   ],
   "source": [
    "print(student.__dict__)"
   ]
  },
  {
   "cell_type": "markdown",
   "metadata": {},
   "source": [
    "####################################################################################################################"
   ]
  }
 ],
 "metadata": {
  "kernelspec": {
   "display_name": "Python 3",
   "language": "python",
   "name": "python3"
  },
  "language_info": {
   "codemirror_mode": {
    "name": "ipython",
    "version": 3
   },
   "file_extension": ".py",
   "mimetype": "text/x-python",
   "name": "python",
   "nbconvert_exporter": "python",
   "pygments_lexer": "ipython3",
   "version": "3.7.0"
  }
 },
 "nbformat": 4,
 "nbformat_minor": 2
}
